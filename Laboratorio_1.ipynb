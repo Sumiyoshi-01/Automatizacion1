{
 "cells": [
  {
   "cell_type": "code",
   "execution_count": 2,
   "id": "f6ad21d2",
   "metadata": {},
   "outputs": [
    {
     "name": "stdout",
     "output_type": "stream",
     "text": [
      "8\n"
     ]
    }
   ],
   "source": [
    "# Con def podemos definir una función a nuestra elección\n",
    "def suma(a, b):\n",
    "    return a + b\n",
    "print(suma(3, 5))  # Llamamos a la función con dos números\n"
   ]
  },
  {
   "cell_type": "code",
   "execution_count": 4,
   "id": "14d16b3f",
   "metadata": {},
   "outputs": [
    {
     "name": "stdout",
     "output_type": "stream",
     "text": [
      "Número a: 3\n",
      "Número b: 9\n",
      "Resultado: -6\n"
     ]
    }
   ],
   "source": [
    "def calculadora(a, b, operacion):\n",
    "    if operacion == \"+\":\n",
    "        return a + b\n",
    "    elif operacion == \"-\":\n",
    "        return a - b\n",
    "    elif operacion == \"*\":\n",
    "        return a * b\n",
    "    elif operacion == \"/\":\n",
    "        return a / b\n",
    "    elif operacion == \"%\":\n",
    "        return a % b\n",
    "    else:\n",
    "        return \"Operación no válida\"\n",
    "\n",
    "a = int(input(\"Ingrese número a: \"))\n",
    "b = int(input(\"Ingrese número b: \"))\n",
    "op = input(\"Ingrese el tipo de operación aritmética (+, -, *, /, %): \")\n",
    "\n",
    "resultado = calculadora(a, b, op)\n",
    "print(f\"Número a: {a}\")\n",
    "print(f\"Número b: {b}\")\n",
    "print(\"Resultado:\", resultado)\n"
   ]
  },
  {
   "cell_type": "code",
   "execution_count": null,
   "id": "865a64c5",
   "metadata": {},
   "outputs": [
    {
     "name": "stdout",
     "output_type": "stream",
     "text": [
      "Su matriz es:\n",
      "[[1 2]\n",
      " [3 4]]\n",
      "La transpuesta de la matriz es:\n",
      "[[1 3]\n",
      " [2 4]]\n"
     ]
    }
   ],
   "source": [
    "import numpy as np\n",
    "\n",
    "def crear_matriz(n):\n",
    "    matriz = np.zeros((n, n), dtype=int)\n",
    "    \n",
    "    for i in range(n):\n",
    "        for j in range(n):\n",
    "            valor = int(input(f\"Dime el dato en la fila {i+1} y la columna {j+1}: \"))\n",
    "            matriz[i][j] = valor \n",
    "    return matriz\n",
    "\n",
    "n = int(input(\"Escriba el parámetro n para definir el tamaño de la matriz cuadrada: \"))\n",
    "matriz = crear_matriz(n)\n",
    "\n",
    "print(\"Su matriz es:\")\n",
    "print(matriz)\n",
    "\n",
    "transpuesta = matriz.T\n",
    "print(\"La transpuesta de la matriz es:\")\n",
    "print(transpuesta)\n"
   ]
  },
  {
   "cell_type": "code",
   "execution_count": 8,
   "id": "eec7fe60",
   "metadata": {},
   "outputs": [
    {
     "name": "stdout",
     "output_type": "stream",
     "text": [
      "Para el día 12 del mes junio estaríamos en primavera\n"
     ]
    }
   ],
   "source": [
    "def estacion(mes, dia):\n",
    "    dias_mes = {\n",
    "        \"enero\": 31, \"febrero\": 28, \"marzo\": 31,\n",
    "        \"abril\": 30, \"mayo\": 31, \"junio\": 30,\n",
    "        \"julio\": 31, \"agosto\": 31, \"septiembre\": 30,\n",
    "        \"octubre\": 31, \"noviembre\": 30, \"diciembre\": 31\n",
    "    }\n",
    "\n",
    "    if mes not in dias_mes:\n",
    "        return \"Mes inválido\"\n",
    "\n",
    "    if dia < 1 or dia > dias_mes[mes]:\n",
    "        return f\"Error: {mes} no tiene {dia} días\"\n",
    "\n",
    "    if (mes == \"diciembre\" and dia >= 21) or mes in [\"enero\", \"febrero\"] or (mes == \"marzo\" and dia < 21):\n",
    "        return \"invierno\"\n",
    "    elif (mes == \"marzo\" and dia >= 21) or mes in [\"abril\", \"mayo\"] or (mes == \"junio\" and dia < 21):\n",
    "        return \"primavera\"\n",
    "    elif (mes == \"junio\" and dia >= 21) or mes in [\"julio\", \"agosto\"] or (mes == \"septiembre\" and dia < 21):\n",
    "        return \"verano\"\n",
    "    else:\n",
    "        return \"otoño\"\n",
    "\n",
    "\n",
    "mes = input(\"Ingrese el nombre del mes: \").lower()\n",
    "dia = int(input(\"Ingrese el día que desea consultar: \"))\n",
    "\n",
    "resultado = estacion(mes, dia)\n",
    "print(f\"Para el día {dia} del mes {mes} estaríamos en {resultado}\")\n"
   ]
  },
  {
   "cell_type": "code",
   "execution_count": 1,
   "id": "3f5ae73b",
   "metadata": {},
   "outputs": [
    {
     "name": "stdout",
     "output_type": "stream",
     "text": [
      "\n",
      "Ingrese los elementos de la matriz:\n",
      "Matriz ingresada por el usuario:\n",
      " [[1 2]\n",
      " [3 4]]\n",
      "\n",
      "Matriz aleatoria:\n",
      " [[3 9]\n",
      " [5 8]]\n",
      "\n",
      "Suma de ambas matrices:\n",
      " [[ 4 11]\n",
      " [ 8 12]]\n"
     ]
    }
   ],
   "source": [
    "import numpy as np\n",
    "\n",
    "try:\n",
    "    filas = int(input(\"Ingrese el número de filas: \"))\n",
    "    columnas = int(input(\"Ingrese el número de columnas: \"))\n",
    "\n",
    "    matriz_usuario = []\n",
    "    print(\"\\nIngrese los elementos de la matriz:\")\n",
    "    for i in range(filas):\n",
    "        fila = []\n",
    "        for j in range(columnas):\n",
    "            valor = int(input(f\"Ingrese el valor para la posición [{i}][{j}]: \"))\n",
    "            fila.append(valor)\n",
    "        matriz_usuario.append(fila)\n",
    "\n",
    "    matriz_usuario = np.array(matriz_usuario)\n",
    "\n",
    "    matriz_aleatoria = np.random.randint(0, 10, (filas, columnas))\n",
    "\n",
    "    matriz_suma = matriz_usuario + matriz_aleatoria\n",
    "\n",
    "    print(\"Matriz ingresada por el usuario:\\n\", matriz_usuario)\n",
    "    print(\"\\nMatriz aleatoria:\\n\", matriz_aleatoria)\n",
    "    print(\"\\nSuma de ambas matrices:\\n\", matriz_suma)\n",
    "\n",
    "except ValueError:\n",
    "    print(\"Error: Debe ingresar solo números enteros.\")\n"
   ]
  },
  {
   "cell_type": "code",
   "execution_count": 10,
   "id": "8dc15398",
   "metadata": {},
   "outputs": [
    {
     "name": "stdout",
     "output_type": "stream",
     "text": [
      "\n",
      "Las 3 palabras más frecuentes son:\n",
      "a: 3 veces\n"
     ]
    }
   ],
   "source": [
    "reseñas = []\n",
    "for i in range(3):\n",
    "    reseña = input(f\"Ingrese la reseña {i+1}: \")\n",
    "    reseñas.append(reseña)\n",
    "\n",
    "reseñas_limpias = []\n",
    "for r in reseñas:\n",
    "    r = r.lower() \n",
    "    for signo in \".,!?\":\n",
    "        r = r.replace(signo, \"\")\n",
    "    reseñas_limpias.append(r)\n",
    "\n",
    "frecuencias = {}\n",
    "for r in reseñas_limpias:\n",
    "    palabras = r.split()  \n",
    "    for palabra in palabras:\n",
    "        frecuencias[palabra] = frecuencias.get(palabra, 0) + 1\n",
    "\n",
    "top3 = sorted(frecuencias.items(), key=lambda x: x[1], reverse=True)[:3]\n",
    "\n",
    "print(\"\\nLas 3 palabras más frecuentes son:\")\n",
    "for palabra, cantidad in top3:\n",
    "    print(f\"{palabra}: {cantidad} veces\")\n"
   ]
  }
 ],
 "metadata": {
  "kernelspec": {
   "display_name": "Python 3",
   "language": "python",
   "name": "python3"
  },
  "language_info": {
   "codemirror_mode": {
    "name": "ipython",
    "version": 3
   },
   "file_extension": ".py",
   "mimetype": "text/x-python",
   "name": "python",
   "nbconvert_exporter": "python",
   "pygments_lexer": "ipython3",
   "version": "3.13.6"
  }
 },
 "nbformat": 4,
 "nbformat_minor": 5
}
